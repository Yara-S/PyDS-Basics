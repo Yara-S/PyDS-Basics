{
 "cells": [
  {
   "cell_type": "code",
   "execution_count": 1,
   "metadata": {},
   "outputs": [],
   "source": [
    "import numpy as np\n",
    "import pandas as pd\n",
    "import matplotlib.pyplot as plt\n",
    "import seaborn as sns\n",
    "%matplotlib inline"
   ]
  },
  {
   "cell_type": "code",
   "execution_count": 2,
   "metadata": {},
   "outputs": [],
   "source": [
    "from sklearn.datasets import make_blobs"
   ]
  },
  {
   "cell_type": "code",
   "execution_count": 3,
   "metadata": {},
   "outputs": [],
   "source": [
    "data_montada = make_blobs(n_samples=200, n_features=2, centers=4) # um dataset com 200 dados de 2 variaveis. \n",
    "#Cada um pertencendo a uma classe dentro de um universo de 4 classes"
   ]
  },
  {
   "cell_type": "code",
   "execution_count": 5,
   "metadata": {},
   "outputs": [
    {
     "data": {
      "text/plain": [
       "array([[ 6.27749723e+00,  7.60227553e+00],\n",
       "       [ 4.66406910e-01, -1.14419052e+01],\n",
       "       [ 7.02237653e+00, -8.62880191e+00],\n",
       "       [-1.02922597e+00, -1.21192063e+01],\n",
       "       [ 6.88048684e+00, -8.54981372e+00],\n",
       "       [ 7.36245341e-01, -1.09717725e+01],\n",
       "       [-9.77109016e+00,  8.08768189e+00],\n",
       "       [ 6.06440877e+00,  8.38083654e+00],\n",
       "       [-9.26483065e-01, -1.09487938e+01],\n",
       "       [-8.35735747e+00,  6.73506794e+00],\n",
       "       [ 7.72180319e-01, -1.02591333e+01],\n",
       "       [-1.02259447e+00, -9.65559475e+00],\n",
       "       [ 9.16119700e+00, -5.83660494e+00],\n",
       "       [-1.76769930e+00, -9.63082731e+00],\n",
       "       [ 7.16758970e-01, -1.00344642e+01],\n",
       "       [-1.05464983e-03, -1.07530254e+01],\n",
       "       [-8.69538159e+00,  9.20698044e+00],\n",
       "       [ 6.26145975e+00,  7.22615081e+00],\n",
       "       [-8.29863499e+00,  9.26606763e+00],\n",
       "       [ 7.73119148e+00, -7.51451702e+00],\n",
       "       [-7.15039166e+00,  6.45247401e+00],\n",
       "       [ 7.80173800e+00,  7.44950378e+00],\n",
       "       [ 6.53839434e+00, -6.68123334e+00],\n",
       "       [-8.91349285e+00,  6.34994626e+00],\n",
       "       [ 6.82884738e-01, -9.82630695e+00],\n",
       "       [ 6.60227314e+00,  6.16829562e+00],\n",
       "       [-8.32524794e+00,  6.24117014e+00],\n",
       "       [-9.63045971e+00,  7.52366660e+00],\n",
       "       [ 3.49658528e-01, -9.48942343e+00],\n",
       "       [ 6.17960482e+00, -7.02894471e+00],\n",
       "       [-6.83141890e+00,  8.93989487e+00],\n",
       "       [-8.43264950e+00,  8.31537572e+00],\n",
       "       [-8.52278860e+00,  8.21959704e+00],\n",
       "       [-1.30273227e+00, -8.84183437e+00],\n",
       "       [ 8.69967861e+00, -6.23527178e+00],\n",
       "       [-8.72729439e+00,  7.47107581e+00],\n",
       "       [ 8.38691444e+00, -7.31856635e+00],\n",
       "       [ 8.36831397e+00, -6.00861200e+00],\n",
       "       [ 8.11754112e+00,  7.00060787e+00],\n",
       "       [ 1.77537180e+00, -8.94867895e+00],\n",
       "       [ 7.08593531e+00, -7.79254891e+00],\n",
       "       [ 5.85514704e+00, -6.01641291e+00],\n",
       "       [-9.33560108e+00,  7.85027359e+00],\n",
       "       [ 8.80290697e-01, -1.05387729e+01],\n",
       "       [-8.24398865e+00,  5.77233957e+00],\n",
       "       [ 5.63684639e+00, -6.26625783e+00],\n",
       "       [ 6.28756649e+00, -8.54484025e+00],\n",
       "       [ 2.94159486e-02, -1.05863431e+01],\n",
       "       [ 6.05442912e+00,  7.31911975e+00],\n",
       "       [ 8.32503717e+00, -6.53534853e+00],\n",
       "       [ 6.73742491e+00, -7.09711870e+00],\n",
       "       [-9.28835158e-01, -8.23775043e+00],\n",
       "       [ 7.09046248e+00, -7.97235691e+00],\n",
       "       [ 7.31148039e+00, -6.56328142e+00],\n",
       "       [-9.19682994e+00,  7.18416396e+00],\n",
       "       [ 8.10424255e+00,  5.93678294e+00],\n",
       "       [-8.42401384e-01, -8.54039852e+00],\n",
       "       [-7.83587894e+00,  8.97006897e+00],\n",
       "       [ 7.98802987e+00,  9.56492204e+00],\n",
       "       [-7.86104287e+00,  8.26331194e+00],\n",
       "       [ 7.46846637e+00, -6.00379187e+00],\n",
       "       [ 7.29270570e+00,  7.81865965e+00],\n",
       "       [ 5.04073033e+00, -7.41674195e+00],\n",
       "       [-7.07964204e+00,  5.80282927e+00],\n",
       "       [ 9.19642018e-01, -9.57343191e+00],\n",
       "       [ 1.39674243e+00, -9.59164295e+00],\n",
       "       [-9.58836266e+00,  8.14611159e+00],\n",
       "       [ 7.23025305e+00,  7.19825969e+00],\n",
       "       [-8.60562068e+00,  7.71963506e+00],\n",
       "       [ 7.05385217e+00,  8.31667677e+00],\n",
       "       [ 6.63931795e+00,  9.78401041e+00],\n",
       "       [ 7.92801691e+00, -6.37503587e+00],\n",
       "       [ 1.92560301e+00, -9.41337119e+00],\n",
       "       [ 1.27309332e+00, -1.08767967e+01],\n",
       "       [-7.85998344e+00,  7.43034576e+00],\n",
       "       [ 8.38905609e+00,  6.85755430e+00],\n",
       "       [-7.90307584e+00,  7.23824409e+00],\n",
       "       [ 4.18392044e-01, -1.08691264e+01],\n",
       "       [ 7.23255688e+00, -7.67986354e+00],\n",
       "       [ 6.89526517e+00, -7.84770741e+00],\n",
       "       [ 7.18812951e+00, -9.74102216e+00],\n",
       "       [ 7.45356325e+00, -8.00006291e+00],\n",
       "       [-8.60942291e-01, -9.19312024e+00],\n",
       "       [-5.60971060e-01, -8.47821609e+00],\n",
       "       [ 4.62862261e-01, -9.76114095e+00],\n",
       "       [ 6.39646458e+00, -5.93708625e+00],\n",
       "       [ 3.31214221e-01, -1.09972918e+01],\n",
       "       [ 7.41481720e+00, -7.35005896e+00],\n",
       "       [ 1.95307071e+00, -8.64219939e+00],\n",
       "       [-9.05796294e+00,  7.76731745e+00],\n",
       "       [ 6.92090283e+00,  8.79441677e+00],\n",
       "       [ 8.21685116e+00, -9.10075012e+00],\n",
       "       [-9.08058099e+00,  7.44160486e+00],\n",
       "       [ 1.45565506e+00, -9.67950192e+00],\n",
       "       [ 7.63042347e+00, -7.34958711e+00],\n",
       "       [ 8.31629261e+00,  6.49800346e+00],\n",
       "       [ 9.75940630e-01, -1.07439155e+01],\n",
       "       [ 5.02848563e+00, -7.73942940e+00],\n",
       "       [ 8.61113942e+00,  8.83537675e+00],\n",
       "       [ 1.01858815e+00, -9.93624280e+00],\n",
       "       [ 1.58594995e+00, -1.04419537e+01],\n",
       "       [ 5.57831000e+00,  6.70951174e+00],\n",
       "       [-8.49307676e+00,  6.36564754e+00],\n",
       "       [ 8.32765583e+00, -7.08741686e+00],\n",
       "       [-6.20787511e+00,  6.85623302e+00],\n",
       "       [ 7.02621947e+00,  6.05108665e+00],\n",
       "       [ 7.40402302e+00, -9.88693073e+00],\n",
       "       [ 7.62739504e+00,  6.71775892e+00],\n",
       "       [ 7.12040660e+00,  8.36780966e+00],\n",
       "       [-8.74610993e+00,  8.16148748e+00],\n",
       "       [ 1.77123224e-01, -1.08540908e+01],\n",
       "       [ 7.43132159e+00, -8.39724805e+00],\n",
       "       [-7.85269224e+00,  8.20954460e+00],\n",
       "       [ 8.25320465e+00,  8.73643731e+00],\n",
       "       [-8.58897657e+00,  7.98247804e+00],\n",
       "       [ 7.61798028e+00,  6.85780685e+00],\n",
       "       [ 7.14439549e+00,  7.47029027e+00],\n",
       "       [ 4.91947507e+00,  8.08647075e+00],\n",
       "       [ 9.59116550e+00,  9.54216357e+00],\n",
       "       [ 2.14473681e+00, -8.07427251e+00],\n",
       "       [ 7.06776636e+00,  7.04946847e+00],\n",
       "       [-6.93041574e+00,  8.08427669e+00],\n",
       "       [ 8.46956077e+00, -7.64259103e+00],\n",
       "       [-8.16855061e+00,  8.77748963e+00],\n",
       "       [ 7.38228212e+00, -7.06541928e+00],\n",
       "       [ 6.85107151e+00,  6.94409009e+00],\n",
       "       [ 7.72629821e+00,  6.49655430e+00],\n",
       "       [-7.51383126e+00,  5.59387066e+00],\n",
       "       [ 3.87349947e-01, -8.95891114e+00],\n",
       "       [ 9.24144181e+00, -8.22600478e+00],\n",
       "       [ 7.40877081e+00,  7.77930548e+00],\n",
       "       [ 7.13796780e+00, -8.46811805e+00],\n",
       "       [-9.09595383e+00,  8.33009382e+00],\n",
       "       [-6.56777494e+00,  7.92619357e+00],\n",
       "       [-8.17813290e+00,  7.05811172e+00],\n",
       "       [ 8.79465669e+00, -8.75344313e+00],\n",
       "       [ 6.98352658e-01, -1.04696387e+01],\n",
       "       [ 6.91253058e+00,  7.64324947e+00],\n",
       "       [-7.94752643e+00,  7.96094231e+00],\n",
       "       [ 7.24834238e+00,  8.68901220e+00],\n",
       "       [ 6.86255199e+00,  8.14397399e+00],\n",
       "       [ 6.82978467e+00, -6.85484853e+00],\n",
       "       [-9.57512222e+00,  7.61102559e+00],\n",
       "       [ 9.96298955e+00,  7.82987551e+00],\n",
       "       [ 6.77109334e+00,  7.14499755e+00],\n",
       "       [ 1.02750119e+01, -7.48207959e+00],\n",
       "       [-1.13852576e+00, -1.18045600e+01],\n",
       "       [ 6.98257777e+00, -6.13773222e+00],\n",
       "       [ 1.09147368e+00, -7.94183901e+00],\n",
       "       [ 8.51011168e+00,  7.84126447e+00],\n",
       "       [ 6.85928506e+00, -6.04365079e+00],\n",
       "       [ 8.21799994e+00,  6.24590648e+00],\n",
       "       [ 1.11710150e+00, -9.79431978e+00],\n",
       "       [-7.57735511e+00,  7.04949541e+00],\n",
       "       [ 7.19164000e+00,  7.59945964e+00],\n",
       "       [-7.19866862e+00,  8.69021362e+00],\n",
       "       [-7.81513175e+00,  8.24535760e+00],\n",
       "       [ 7.54533366e+00, -5.72014895e+00],\n",
       "       [-9.43359653e+00,  7.55754018e+00],\n",
       "       [ 4.66107669e-01, -9.61474587e+00],\n",
       "       [-4.71273919e-01, -9.96894398e+00],\n",
       "       [ 6.80395301e+00, -8.61980619e+00],\n",
       "       [ 7.69224193e+00,  6.74629085e+00],\n",
       "       [-1.15879641e+00, -1.04004390e+01],\n",
       "       [ 7.85514683e+00,  9.91456163e+00],\n",
       "       [ 1.11245505e+00, -1.06844378e+01],\n",
       "       [-1.96969162e-01, -1.02570485e+01],\n",
       "       [ 7.65139116e+00,  6.62238901e+00],\n",
       "       [ 8.10081001e+00, -8.01986395e+00],\n",
       "       [-8.38126036e+00,  7.23461602e+00],\n",
       "       [ 6.53058558e+00,  7.01046440e+00],\n",
       "       [ 7.24996617e+00,  7.77217219e+00],\n",
       "       [-7.46887560e+00,  8.73199071e+00],\n",
       "       [ 6.99671731e+00,  6.36591170e+00],\n",
       "       [ 8.50384279e+00,  5.72937189e+00],\n",
       "       [-8.24249686e+00,  8.72077824e+00],\n",
       "       [ 8.68100253e+00,  7.30381482e+00],\n",
       "       [ 5.81622162e+00,  6.58162520e+00],\n",
       "       [-8.05031294e+00,  7.15072821e+00],\n",
       "       [-8.74231855e+00,  7.14507491e+00],\n",
       "       [ 2.25328689e+00, -9.64252870e+00],\n",
       "       [ 6.37115895e+00, -8.06072160e+00],\n",
       "       [-8.01077064e-01, -9.03196494e+00],\n",
       "       [-7.69025267e+00,  7.22742271e+00],\n",
       "       [ 2.17586709e+00, -1.03758639e+01],\n",
       "       [-8.48927758e+00,  9.00937826e+00],\n",
       "       [-1.90957658e+00, -8.83122838e+00],\n",
       "       [ 8.17856022e+00,  7.28110925e+00],\n",
       "       [ 1.23716881e+00, -1.05308398e+01],\n",
       "       [ 6.68227640e+00, -7.95814186e+00],\n",
       "       [ 7.85553863e+00, -8.21789237e+00],\n",
       "       [ 8.46644764e+00, -7.83109267e+00],\n",
       "       [ 7.41141339e+00, -7.27558634e+00],\n",
       "       [ 7.79942744e+00,  7.44799313e+00],\n",
       "       [-3.88108901e-01, -1.07540356e+01],\n",
       "       [-8.81844174e+00,  7.16073043e+00],\n",
       "       [-8.82479067e+00,  8.59350427e+00],\n",
       "       [ 7.67603581e+00,  5.26923895e+00],\n",
       "       [ 6.90073793e-01, -8.52817254e+00],\n",
       "       [ 7.59447245e+00, -5.53060004e+00]])"
      ]
     },
     "execution_count": 5,
     "metadata": {},
     "output_type": "execute_result"
    }
   ],
   "source": [
    "data_montada[0] #dados"
   ]
  },
  {
   "cell_type": "code",
   "execution_count": 6,
   "metadata": {},
   "outputs": [
    {
     "data": {
      "text/plain": [
       "array([1, 2, 3, 2, 3, 2, 0, 1, 2, 0, 2, 2, 3, 2, 2, 2, 0, 1, 0, 3, 0, 1,\n",
       "       3, 0, 2, 1, 0, 0, 2, 3, 0, 0, 0, 2, 3, 0, 3, 3, 1, 2, 3, 3, 0, 2,\n",
       "       0, 3, 3, 2, 1, 3, 3, 2, 3, 3, 0, 1, 2, 0, 1, 0, 3, 1, 3, 0, 2, 2,\n",
       "       0, 1, 0, 1, 1, 3, 2, 2, 0, 1, 0, 2, 3, 3, 3, 3, 2, 2, 2, 3, 2, 3,\n",
       "       2, 0, 1, 3, 0, 2, 3, 1, 2, 3, 1, 2, 2, 1, 0, 3, 0, 1, 3, 1, 1, 0,\n",
       "       2, 3, 0, 1, 0, 1, 1, 1, 1, 2, 1, 0, 3, 0, 3, 1, 1, 0, 2, 3, 1, 3,\n",
       "       0, 0, 0, 3, 2, 1, 0, 1, 1, 3, 0, 1, 1, 3, 2, 3, 2, 1, 3, 1, 2, 0,\n",
       "       1, 0, 0, 3, 0, 2, 2, 3, 1, 2, 1, 2, 2, 1, 3, 0, 1, 1, 0, 1, 1, 0,\n",
       "       1, 1, 0, 0, 2, 3, 2, 0, 2, 0, 2, 1, 2, 3, 3, 3, 3, 1, 2, 0, 0, 1,\n",
       "       2, 3])"
      ]
     },
     "execution_count": 6,
     "metadata": {},
     "output_type": "execute_result"
    }
   ],
   "source": [
    "data_montada[1] #classe a qual cada dado pertence"
   ]
  },
  {
   "cell_type": "code",
   "execution_count": 9,
   "metadata": {},
   "outputs": [
    {
     "data": {
      "text/plain": [
       "<matplotlib.collections.PathCollection at 0x13ff0eb0>"
      ]
     },
     "execution_count": 9,
     "metadata": {},
     "output_type": "execute_result"
    },
    {
     "data": {
      "image/png": "[encoded data removed]",
      "text/plain": [
       "<Figure size 432x288 with 1 Axes>"
      ]
     },
     "metadata": {
      "needs_background": "light"
     },
     "output_type": "display_data"
    }
   ],
   "source": [
    "#vamos montar o grafico para visualizar melhor a distribuicao\n",
    "plt.scatter(data_montada[0][:,0], data_montada[0][:,1], c=data_montada[1])"
   ]
  },
  {
   "cell_type": "code",
   "execution_count": 10,
   "metadata": {},
   "outputs": [],
   "source": [
    "#objetivo: com o KMeans tentar inferir essas classes\n",
    "\n",
    "from sklearn.cluster import KMeans"
   ]
  },
  {
   "cell_type": "code",
   "execution_count": 12,
   "metadata": {},
   "outputs": [],
   "source": [
    "km = KMeans(n_clusters=4)"
   ]
  },
  {
   "cell_type": "code",
   "execution_count": 13,
   "metadata": {},
   "outputs": [
    {
     "data": {
      "text/plain": [
       "KMeans(algorithm='auto', copy_x=True, init='k-means++', max_iter=300,\n",
       "       n_clusters=4, n_init=10, n_jobs=None, precompute_distances='auto',\n",
       "       random_state=None, tol=0.0001, verbose=0)"
      ]
     },
     "execution_count": 13,
     "metadata": {},
     "output_type": "execute_result"
    }
   ],
   "source": [
    "#como o KMeans aplica o metodo NAO supervisionado, nao é preciso fazer a separacao de training e test\n",
    "\n",
    "km.fit(data_montada[0]) #passagem direta dos dados"
   ]
  },
  {
   "cell_type": "code",
   "execution_count": 14,
   "metadata": {},
   "outputs": [
    {
     "data": {
      "text/plain": [
       "array([0, 1, 3, 1, 3, 1, 2, 0, 1, 2, 1, 1, 3, 1, 1, 1, 2, 0, 2, 3, 2, 0,\n",
       "       3, 2, 1, 0, 2, 2, 1, 3, 2, 2, 2, 1, 3, 2, 3, 3, 0, 1, 3, 3, 2, 1,\n",
       "       2, 3, 3, 1, 0, 3, 3, 1, 3, 3, 2, 0, 1, 2, 0, 2, 3, 0, 3, 2, 1, 1,\n",
       "       2, 0, 2, 0, 0, 3, 1, 1, 2, 0, 2, 1, 3, 3, 3, 3, 1, 1, 1, 3, 1, 3,\n",
       "       1, 2, 0, 3, 2, 1, 3, 0, 1, 3, 0, 1, 1, 0, 2, 3, 2, 0, 3, 0, 0, 2,\n",
       "       1, 3, 2, 0, 2, 0, 0, 0, 0, 1, 0, 2, 3, 2, 3, 0, 0, 2, 1, 3, 0, 3,\n",
       "       2, 2, 2, 3, 1, 0, 2, 0, 0, 3, 2, 0, 0, 3, 1, 3, 1, 0, 3, 0, 1, 2,\n",
       "       0, 2, 2, 3, 2, 1, 1, 3, 0, 1, 0, 1, 1, 0, 3, 2, 0, 0, 2, 0, 0, 2,\n",
       "       0, 0, 2, 2, 1, 3, 1, 2, 1, 2, 1, 0, 1, 3, 3, 3, 3, 0, 1, 2, 2, 0,\n",
       "       1, 3])"
      ]
     },
     "execution_count": 14,
     "metadata": {},
     "output_type": "execute_result"
    }
   ],
   "source": [
    "km.labels_ #classificacao de classes dada pelo kmeans"
   ]
  },
  {
   "cell_type": "code",
   "execution_count": 15,
   "metadata": {},
   "outputs": [
    {
     "data": {
      "text/plain": [
       "<matplotlib.collections.PathCollection at 0x158c4370>"
      ]
     },
     "execution_count": 15,
     "metadata": {},
     "output_type": "execute_result"
    },
    {
     "data": {
      "image/png": "[encoded data removed]",
      "text/plain": [
       "<Figure size 432x288 with 1 Axes>"
      ]
     },
     "metadata": {
      "needs_background": "light"
     },
     "output_type": "display_data"
    }
   ],
   "source": [
    "plt.scatter(data_montada[0][:,0], data_montada[0][:,1], c=km.labels_ )"
   ]
  },
  {
   "cell_type": "code",
   "execution_count": null,
   "metadata": {},
   "outputs": [],
   "source": []
  }
 ],
 "metadata": {
  "kernelspec": {
   "display_name": "Python 3",
   "language": "python",
   "name": "python3"
  },
  "language_info": {
   "codemirror_mode": {
    "name": "ipython",
    "version": 3
   },
   "file_extension": ".py",
   "mimetype": "text/x-python",
   "name": "python",
   "nbconvert_exporter": "python",
   "pygments_lexer": "ipython3",
   "version": "3.7.4"
  }
 },
 "nbformat": 4,
 "nbformat_minor": 2
}
